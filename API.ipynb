{
 "cells": [
  {
   "cell_type": "markdown",
   "id": "6b92dc21",
   "metadata": {},
   "source": [
    "## Below is the nasa api project, we learned about requests.get and requests.json + what a json file is"
   ]
  },
  {
   "cell_type": "code",
   "execution_count": null,
   "id": "96fefef7",
   "metadata": {},
   "outputs": [],
   "source": [
    "import requests"
   ]
  },
  {
   "cell_type": "code",
   "execution_count": 31,
   "id": "5810af79",
   "metadata": {},
   "outputs": [
    {
     "name": "stdout",
     "output_type": "stream",
     "text": [
      "<Response [200]>\n"
     ]
    }
   ],
   "source": [
    "people = requests.get('http://api.open-notify.org/astros.json', )\n",
    "print(people.text)\n"
   ]
  },
  {
   "cell_type": "code",
   "execution_count": 23,
   "id": "9de7e20c",
   "metadata": {},
   "outputs": [
    {
     "name": "stdout",
     "output_type": "stream",
     "text": [
      "10\n"
     ]
    }
   ],
   "source": [
    "people_json = people.json()"
   ]
  },
  {
   "cell_type": "code",
   "execution_count": 21,
   "id": "739c57ad",
   "metadata": {},
   "outputs": [
    {
     "name": "stdout",
     "output_type": "stream",
     "text": [
      "{'message': 'success', 'people': [{'name': 'Cai Xuzhe', 'craft': 'Tiangong'}, {'name': 'Chen Dong', 'craft': 'Tiangong'}, {'name': 'Liu Yang', 'craft': 'Tiangong'}, {'name': 'Sergey Prokopyev', 'craft': 'ISS'}, {'name': 'Dmitry Petelin', 'craft': 'ISS'}, {'name': 'Frank Rubio', 'craft': 'ISS'}, {'name': 'Nicole Mann', 'craft': 'ISS'}, {'name': 'Josh Cassada', 'craft': 'ISS'}, {'name': 'Koichi Wakata', 'craft': 'ISS'}, {'name': 'Anna Kikina', 'craft': 'ISS'}], 'number': 10}\n"
     ]
    }
   ],
   "source": [
    "print(people_json)"
   ]
  },
  {
   "cell_type": "code",
   "execution_count": 22,
   "id": "55ad9319",
   "metadata": {},
   "outputs": [
    {
     "name": "stdout",
     "output_type": "stream",
     "text": [
      "10\n"
     ]
    }
   ],
   "source": [
    "print(people_json[\"number\"])"
   ]
  },
  {
   "cell_type": "markdown",
   "id": "9c55fad9",
   "metadata": {},
   "source": [
    "## DATAMUSE API"
   ]
  },
  {
   "cell_type": "code",
   "execution_count": 26,
   "id": "c8bef6ae",
   "metadata": {},
   "outputs": [],
   "source": [
    "parameter = {\"rel_rhy\":\"jingle\"}\n",
    "request = requests.get('https://api.datamuse.com/words', parameter)"
   ]
  },
  {
   "cell_type": "code",
   "execution_count": 32,
   "id": "0f53dab8",
   "metadata": {},
   "outputs": [
    {
     "name": "stdout",
     "output_type": "stream",
     "text": [
      "[{'word': 'single', 'score': 1270, 'numSyllables': 2}, {'word': 'mingle', 'score': 947, 'numSyllables': 2}, {'word': 'shingle', 'score': 807, 'numSyllables': 2}, {'word': 'ingle', 'score': 727, 'numSyllables': 2}, {'word': 'tingle', 'score': 601, 'numSyllables': 2}, {'word': 'commingle', 'score': 596, 'numSyllables': 3}, {'word': 'dingle', 'score': 477, 'numSyllables': 2}, {'word': 'pringle', 'score': 375, 'numSyllables': 2}, {'word': 'intermingle', 'score': 279, 'numSyllables': 4}, {'word': 'bingle', 'score': 258, 'numSyllables': 2}, {'word': 'swingle', 'score': 238, 'numSyllables': 2}, {'word': 'lingle', 'score': 84, 'numSyllables': 2}, {'word': 'ringle', 'score': 79, 'numSyllables': 2}, {'word': 'gingell', 'score': 11, 'numSyllables': 2}, {'word': 'ringel', 'score': 11, 'numSyllables': 2}, {'word': 'hingle', 'score': 10, 'numSyllables': 2}, {'word': 'dingel', 'score': 9, 'numSyllables': 2}, {'word': 'klingel', 'score': 9, 'numSyllables': 2}, {'word': 'dingell', 'score': 7, 'numSyllables': 2}, {'word': 'line single', 'score': 5, 'numSyllables': 3}, {'word': 'singel', 'score': 1, 'numSyllables': 2}, {'word': 'bingel', 'numSyllables': 2}, {'word': 'bringle', 'numSyllables': 2}, {'word': 'pettingill', 'numSyllables': 3}, {'word': 'pingel', 'numSyllables': 2}, {'word': 'singh gill', 'numSyllables': 2}]\n"
     ]
    }
   ],
   "source": [
    "rhyme_json = request.json()\n",
    "\n",
    "print(rhyme_json)"
   ]
  },
  {
   "cell_type": "code",
   "execution_count": null,
   "id": "337d8e69",
   "metadata": {},
   "outputs": [],
   "source": []
  }
 ],
 "metadata": {
  "kernelspec": {
   "display_name": "Python 3 (ipykernel)",
   "language": "python",
   "name": "python3"
  },
  "language_info": {
   "codemirror_mode": {
    "name": "ipython",
    "version": 3
   },
   "file_extension": ".py",
   "mimetype": "text/x-python",
   "name": "python",
   "nbconvert_exporter": "python",
   "pygments_lexer": "ipython3",
   "version": "3.9.12"
  }
 },
 "nbformat": 4,
 "nbformat_minor": 5
}
